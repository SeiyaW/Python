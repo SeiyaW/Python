{
 "cells": [
  {
   "cell_type": "code",
   "execution_count": 3,
   "metadata": {},
   "outputs": [
    {
     "name": "stdout",
     "output_type": "stream",
     "text": [
      "function called:hello\n",
      "ごぶさた！\n"
     ]
    }
   ],
   "source": [
    "# ソースコードを書き換えずに関数に機能を追加する\n",
    "# 関数をデコレートする\n",
    "\n",
    "@dec # デコレートしたい関数の直前に@関数名を入れる\n",
    "def hello():\n",
    "    return 'ごぶさた！'\n",
    "\n",
    "# 関数を受け取り関数を返す高階関数\n",
    "def dec(func):\n",
    "    def new_func():\n",
    "        print('function called:' + func.__name__)\n",
    "        return func()\n",
    "    return new_func\n",
    "\n",
    "# # hello()関数を書き換え\n",
    "# hello = dec(hello)\n",
    "\n",
    "print(hello())"
   ]
  },
  {
   "cell_type": "code",
   "execution_count": 6,
   "metadata": {},
   "outputs": [
    {
     "name": "stdout",
     "output_type": "stream",
     "text": [
      "<__main__.Test object at 0x000002086FB52AE0> こんにちは\n"
     ]
    }
   ],
   "source": [
    "# オブジェクトを定義する\n",
    "# Testクラスを定義する\n",
    "class Test:\n",
    "    def show(self, val):\n",
    "        print(self, val)\n",
    "\n",
    "test = Test()\n",
    "test.show('こんにちは')"
   ]
  },
  {
   "cell_type": "code",
   "execution_count": null,
   "metadata": {},
   "outputs": [],
   "source": []
  }
 ],
 "metadata": {
  "kernelspec": {
   "display_name": "Python 3",
   "language": "python",
   "name": "python3"
  },
  "language_info": {
   "codemirror_mode": {
    "name": "ipython",
    "version": 3
   },
   "file_extension": ".py",
   "mimetype": "text/x-python",
   "name": "python",
   "nbconvert_exporter": "python",
   "pygments_lexer": "ipython3",
   "version": "3.12.1"
  }
 },
 "nbformat": 4,
 "nbformat_minor": 2
}
