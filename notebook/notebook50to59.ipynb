{
 "cells": [
  {
   "cell_type": "code",
   "execution_count": null,
   "metadata": {},
   "outputs": [],
   "source": [
    "# ２つのパラメータを持つ関数\n",
    "def appear(\n",
    "    name,                   # パラメーター名のみ\n",
    "    action = '逃げだした!'  # パラメータのデフォルト値を設定\n",
    "    ):\n",
    "    result = name + 'が' + action + '!'\n",
    "    # 処理した文字列を戻り値として返す\n",
    "    return result\n",
    "\n",
    "# appear()関数のパラメーターnameに渡す\n",
    "show = appear('シスの暗黒卿')\n",
    "print(show)"
   ]
  },
  {
   "cell_type": "code",
   "execution_count": null,
   "metadata": {},
   "outputs": [],
   "source": [
    "# グローバルスコープからローカルスコープへのアクセスは不可\n",
    "# エラープログラム\n",
    "def pi():\n",
    "    rate = 3.14 # ローカル変数\n",
    "pi()            # pi()関数を呼び出す\n",
    "print(rate)     # rateを使うことはできない"
   ]
  },
  {
   "cell_type": "code",
   "execution_count": null,
   "metadata": {},
   "outputs": [],
   "source": [
    "# ローカルスコープからのグローバル変数の参照\n",
    "def pi():\n",
    "    print(rate) # グローバル変数を参照\n",
    "\n",
    "rate = 3.14     # グローバル変数\n",
    "pi()            # pi()を呼び出す"
   ]
  },
  {
   "cell_type": "code",
   "execution_count": null,
   "metadata": {},
   "outputs": [],
   "source": [
    "# 関数内部のグローバル変数の値を変更する\n",
    "def msg():\n",
    "    global words    # グローバル変数を変更できるようにする\n",
    "    word = 'Hello'  # グローバル変数の値を設定\n",
    "\n",
    "word = 'global'     # グローバル変数\n",
    "msg()               # msg()を呼び出す\n",
    "print(word)         # グローバル変数の値を出力"
   ]
  },
  {
   "cell_type": "code",
   "execution_count": null,
   "metadata": {},
   "outputs": [],
   "source": [
    "# 例外処理\n",
    "def calc(num1, num2):\n",
    "    try:\n",
    "        return num1 / num2\n",
    "    except ZeroDivisionError:\n",
    "        print('予期しない引数が指定されました。')\n",
    "\n",
    "print(calc(100, 10))\n",
    "print(calc(100, 0))"
   ]
  },
  {
   "cell_type": "code",
   "execution_count": null,
   "metadata": {},
   "outputs": [],
   "source": [
    "# リスト　作成済みのリストに要素を追加する\n",
    "sweets = []\n",
    "sweets.append('ティラミス')\n",
    "sweets.append('チョコエクレア')\n",
    "sweets.append('クリームブリュレ')\n",
    "sweets"
   ]
  },
  {
   "cell_type": "code",
   "execution_count": null,
   "metadata": {},
   "outputs": [],
   "source": [
    "# リストから要素を取り出す\n",
    "sweets[2]"
   ]
  },
  {
   "cell_type": "code",
   "execution_count": null,
   "metadata": {},
   "outputs": [],
   "source": [
    "# リストを先頭から連続してアクセスする\n",
    "names = ['ジェダイ', '暗黒卿', 'チューバッカ', 'ヨーダ']\n",
    "for attack in names:\n",
    "    print(attack + 'は呪文を唱えた')"
   ]
  },
  {
   "cell_type": "code",
   "execution_count": null,
   "metadata": {},
   "outputs": [],
   "source": [
    "# 連続値をもつリストを自動生成する\n",
    "# list(range(10))\n",
    "# list(range(11, 21))\n",
    "# list(range(0, 31, 3))\n",
    "list(range(0, -10, -1))"
   ]
  }
 ],
 "metadata": {
  "kernelspec": {
   "display_name": "Python 3",
   "language": "python",
   "name": "python3"
  },
  "language_info": {
   "codemirror_mode": {
    "name": "ipython",
    "version": 3
   },
   "file_extension": ".py",
   "mimetype": "text/x-python",
   "name": "python",
   "nbconvert_exporter": "python",
   "pygments_lexer": "ipython3",
   "version": "3.12.1"
  }
 },
 "nbformat": 4,
 "nbformat_minor": 2
}
