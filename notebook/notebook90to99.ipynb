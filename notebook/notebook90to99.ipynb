{
 "cells": [
  {
   "cell_type": "code",
   "execution_count": 1,
   "metadata": {},
   "outputs": [
    {
     "name": "stdout",
     "output_type": "stream",
     "text": [
      "{'ライトセーバー': 'フォースと共鳴してプラズマのブレードを放出する', 'ブラスターライフル': '集束した光線エネルギーを発射する', 'レーザー砲': '強力なレーザー兵器'}\n"
     ]
    }
   ],
   "source": [
    "# 内包表記で辞書を作成する\n",
    "weapon = ['ライトセーバー', 'ブラスターライフル', 'レーザー砲']\n",
    "ability = ['フォースと共鳴してプラズマのブレードを放出する', \n",
    "           '集束した光線エネルギーを発射する', \n",
    "           '強力なレーザー兵器']\n",
    "# 内包表記で辞書を作成する\n",
    "dc = {i : j for (i, j) in zip(weapon, ability)}\n",
    "print(dc)"
   ]
  },
  {
   "cell_type": "code",
   "execution_count": 2,
   "metadata": {},
   "outputs": [
    {
     "data": {
      "text/plain": [
       "{'1月', '2月', '3月', '4月', '5月'}"
      ]
     },
     "execution_count": 2,
     "metadata": {},
     "output_type": "execute_result"
    }
   ],
   "source": [
    "# 要素の重複を許さないデータ構造\n",
    "# 集合作成例\n",
    "month = {'1月', '2月', '3月', '4月', '5月'}\n",
    "month"
   ]
  },
  {
   "cell_type": "code",
   "execution_count": 3,
   "metadata": {},
   "outputs": [
    {
     "data": {
      "text/plain": [
       "{'STAR', 'WARS'}"
      ]
     },
     "execution_count": 3,
     "metadata": {},
     "output_type": "execute_result"
    }
   ],
   "source": [
    "# リストから集合を作成\n",
    "set( ['STAR', 'WARS'] )"
   ]
  },
  {
   "cell_type": "code",
   "execution_count": 4,
   "metadata": {},
   "outputs": [
    {
     "data": {
      "text/plain": [
       "{'ブラスターライフル', 'レーザー砲'}"
      ]
     },
     "execution_count": 4,
     "metadata": {},
     "output_type": "execute_result"
    }
   ],
   "source": [
    "# 辞書から集合を作成\n",
    "set( {'レーザー砲': '強力なレーザー兵器',\n",
    "      'ブラスターライフル': '集束した光線エネルギーを発射する'})"
   ]
  },
  {
   "cell_type": "code",
   "execution_count": 5,
   "metadata": {},
   "outputs": [
    {
     "data": {
      "text/plain": [
       "{'アメリカ', 'イギリス', '日本'}"
      ]
     },
     "execution_count": 5,
     "metadata": {},
     "output_type": "execute_result"
    }
   ],
   "source": [
    "# 集合を使って重複した要素を削除/抽出する\n",
    "data = ['日本', 'アメリカ', 'イギリス', 'アメリカ', 'イギリス']\n",
    "data_set = set(data) # 重複した要素を取り除いて集合を作る\n",
    "data_set"
   ]
  },
  {
   "cell_type": "code",
   "execution_count": 8,
   "metadata": {},
   "outputs": [
    {
     "data": {
      "text/plain": [
       "{'アメリカ', '日本'}"
      ]
     },
     "execution_count": 8,
     "metadata": {},
     "output_type": "execute_result"
    }
   ],
   "source": [
    "# 「-」と「&」で演算する\n",
    "data1 = {'日本', 'アメリカ', 'イギリス'}\n",
    "data2 = {'日本', 'アメリカ'}\n",
    "data1 - data2 # data1の要素のうちdata2にないものだけが返される\n",
    "data1 & data2 # data1とdata2で共通の要素だけが返される"
   ]
  },
  {
   "cell_type": "code",
   "execution_count": 10,
   "metadata": {},
   "outputs": [
    {
     "data": {
      "text/plain": [
       "{'アメリカ', '日本'}"
      ]
     },
     "execution_count": 10,
     "metadata": {},
     "output_type": "execute_result"
    }
   ],
   "source": [
    "# ユニオン/インターセクション\n",
    "data1 = {'日本', 'アメリカ', 'イギリス'}\n",
    "data2 = {'日本', 'アメリカ', 'フランス'}\n",
    "data3 = {'日本', 'アメリカ', 'イタリア'}\n",
    "# data1.union(data2, data3) # 重複した要素を除いた集合を作る\n",
    "data1.intersection(data2, data3) # 共通の要素だけで集合を作る"
   ]
  },
  {
   "cell_type": "code",
   "execution_count": 11,
   "metadata": {},
   "outputs": [
    {
     "name": "stdout",
     "output_type": "stream",
     "text": [
      "1月\n",
      "2月\n",
      "3月\n"
     ]
    }
   ],
   "source": [
    "# 伸縮自在のパラメーター\n",
    "# 可変長パラメーターを使う\n",
    "def sequence (*args):\n",
    "    for s in(args):     # 渡された引数の数だけ繰り返す\n",
    "        print(s + '月') # タプルから取り出した要素を表示\n",
    "\n",
    "sequence('1', '2', '3') # 必要なだけ引数を指定して関数を呼び出す"
   ]
  },
  {
   "cell_type": "code",
   "execution_count": 12,
   "metadata": {},
   "outputs": [
    {
     "name": "stdout",
     "output_type": "stream",
     "text": [
      "('1', '2', '3')\n"
     ]
    }
   ],
   "source": [
    "# 可変長パラメータの中身を表示\n",
    "def sequence (*args):\n",
    "    print(args)\n",
    "\n",
    "sequence('1', '2', '3')"
   ]
  },
  {
   "cell_type": "code",
   "execution_count": 13,
   "metadata": {},
   "outputs": [
    {
     "name": "stdout",
     "output_type": "stream",
     "text": [
      "{'year': '2020', 'month': '12'}\n"
     ]
    }
   ],
   "source": [
    "# キーと値がセットになったパラメータ\n",
    "def attacks (**kwargs):\n",
    "    print(kwargs)\n",
    "\n",
    "attacks(year='2020', month='12') # キーワード引数を渡す"
   ]
  },
  {
   "cell_type": "code",
   "execution_count": 14,
   "metadata": {},
   "outputs": [
    {
     "name": "stdout",
     "output_type": "stream",
     "text": [
      "勇者の攻撃\n"
     ]
    }
   ],
   "source": [
    "# 関数オブジェクトと高階関階\n",
    "# 引き渡す関数を定義\n",
    "def attack():\n",
    "    print('勇者の攻撃')\n",
    "attack()"
   ]
  },
  {
   "cell_type": "code",
   "execution_count": 16,
   "metadata": {},
   "outputs": [
    {
     "name": "stdout",
     "output_type": "stream",
     "text": [
      "勇者の攻撃\n"
     ]
    }
   ],
   "source": [
    "# パラメータで関数を取得し、これを実行する高階関数を定義\n",
    "def run_something(func):    # パラメーターで関数を取得する\n",
    "    func()                  # 取得した関数を実行\n",
    "\n",
    "run_something(attack)"
   ]
  },
  {
   "cell_type": "code",
   "execution_count": 17,
   "metadata": {},
   "outputs": [
    {
     "name": "stdout",
     "output_type": "stream",
     "text": [
      "勇者のこうげき！ --> 魔物たちは全滅した\n"
     ]
    }
   ],
   "source": [
    "# パラメーターで関数と引数を受け取る\n",
    "# 引き渡す関数を定義\n",
    "def attack(a, b):\n",
    "    print(a, '-->', b)\n",
    "\n",
    "# 高階関数を定義\n",
    "def run_something(func, arg1, arg2):\n",
    "    func(arg1, arg2)\n",
    "\n",
    "# 関数と引数としての値を設定して高階関数を呼び出す\n",
    "run_something(attack, '勇者のこうげき！', '魔物たちは全滅した')"
   ]
  },
  {
   "cell_type": "code",
   "execution_count": 18,
   "metadata": {},
   "outputs": [
    {
     "data": {
      "text/plain": [
       "6"
      ]
     },
     "execution_count": 18,
     "metadata": {},
     "output_type": "execute_result"
    }
   ],
   "source": [
    "# 関数内関数とクロージャー\n",
    "def outer(a, b):\n",
    "    def inner(c, d):    # 関数内関数\n",
    "        return c + d\n",
    "    return inner(a, b)  # 関数内関数の結果を返す\n",
    "\n",
    "outer(1,5)"
   ]
  },
  {
   "cell_type": "code",
   "execution_count": 19,
   "metadata": {},
   "outputs": [
    {
     "data": {
      "text/plain": [
       "'勇者の攻撃！---> 魔物たちは逃走した'"
      ]
     },
     "execution_count": 19,
     "metadata": {},
     "output_type": "execute_result"
    }
   ],
   "source": [
    "# 文字列を扱う関数内関数\n",
    "def add_reaction (act):\n",
    "    def inner(s):\n",
    "        return s + '---> 魔物たちは逃走した'\n",
    "    return inner(act)\n",
    "\n",
    "add_reaction('勇者の攻撃！')"
   ]
  },
  {
   "cell_type": "code",
   "execution_count": 22,
   "metadata": {},
   "outputs": [
    {
     "data": {
      "text/plain": [
       "'勇者の攻撃！--> 魔物たちは混乱している'"
      ]
     },
     "execution_count": 22,
     "metadata": {},
     "output_type": "execute_result"
    }
   ],
   "source": [
    "# 関数内部でクロージャーを定義する\n",
    "def add_reaction(act):\n",
    "    # クロージャー\n",
    "    def inner():\n",
    "        return act + '--> 魔物たちは混乱している'\n",
    "    return inner\n",
    "\n",
    "a = add_reaction('魔物たちは現れた！')\n",
    "b = add_reaction('勇者の攻撃！')\n",
    "\n",
    "a()\n",
    "b()"
   ]
  },
  {
   "cell_type": "code",
   "execution_count": 24,
   "metadata": {},
   "outputs": [
    {
     "name": "stdout",
     "output_type": "stream",
     "text": [
      "魔物たちは身構えている!!!\n",
      "魔物たち混乱している!!!\n",
      "魔物たちは逃走した!!!\n"
     ]
    }
   ],
   "source": [
    "# 小さな関数は処理部だけの「式」にしてしまう\n",
    "# リストと関数オブジェクトをパラメーターで取得する関数\n",
    "def edit_reaction(reactions, func):\n",
    "    for reaction in reactions:\n",
    "        print(func(reaction))\n",
    "\n",
    "# 魔物のリアクションのリスト\n",
    "pattern = ['魔物たちは身構えている', \n",
    "           '魔物たち混乱している', \n",
    "           '魔物たちは逃走した'\n",
    "            ]\n",
    "\n",
    "# リアクションを強調する\n",
    "def impact(reaction):\n",
    "    return reaction + '!!!'\n",
    "\n",
    "# edit_reaction()関数を実行\n",
    "# edit_reaction(pattern, impact)\n",
    "\n",
    "# リアクションの協調処理をラムダ式にする\n",
    "edit_reaction(pattern, lambda reaction: reaction + '!!!')"
   ]
  },
  {
   "cell_type": "code",
   "execution_count": 34,
   "metadata": {},
   "outputs": [
    {
     "name": "stdout",
     "output_type": "stream",
     "text": [
      "「パ」\n",
      "「コ」\n",
      "「ー」\n",
      "「ン」\n",
      "「ッ」\n",
      "「ッ」\n",
      "「！」\n"
     ]
    }
   ],
   "source": [
    "# ジェネレーターから１つずつ取り出す\n",
    "def generate(str):\n",
    "    for s in str:\n",
    "        yield('「' + s + '」')\n",
    "\n",
    "gen = generate('パコーンッッ！') # ジェネレーターオブジェクトを生成\n",
    "for s in gen:\n",
    "    print(s)"
   ]
  }
 ],
 "metadata": {
  "kernelspec": {
   "display_name": "Python 3",
   "language": "python",
   "name": "python3"
  },
  "language_info": {
   "codemirror_mode": {
    "name": "ipython",
    "version": 3
   },
   "file_extension": ".py",
   "mimetype": "text/x-python",
   "name": "python",
   "nbconvert_exporter": "python",
   "pygments_lexer": "ipython3",
   "version": "3.12.1"
  }
 },
 "nbformat": 4,
 "nbformat_minor": 2
}
