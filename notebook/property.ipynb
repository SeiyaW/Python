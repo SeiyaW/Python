{
 "cells": [
  {
   "cell_type": "code",
   "execution_count": 1,
   "metadata": {},
   "outputs": [
    {
     "data": {
      "text/plain": [
       "100"
      ]
     },
     "execution_count": 1,
     "metadata": {},
     "output_type": "execute_result"
    }
   ],
   "source": [
    "class CapsuleClass:\n",
    "    def __init__(self):\n",
    "        self.__num = 0  # カプセル化されたインスタンス変数\n",
    "    \n",
    "    @property\n",
    "    def num(self):      # __numのゲッター\n",
    "        return self.__num\n",
    "    \n",
    "    @num.setter\n",
    "    def num(self, n):   # __numのセッター\n",
    "        self.__num = n\n",
    "\n",
    "cc = CapsuleClass()\n",
    "cc.num = 100\n",
    "cc.num"
   ]
  },
  {
   "cell_type": "code",
   "execution_count": null,
   "metadata": {},
   "outputs": [],
   "source": []
  }
 ],
 "metadata": {
  "kernelspec": {
   "display_name": "Python 3",
   "language": "python",
   "name": "python3"
  },
  "language_info": {
   "codemirror_mode": {
    "name": "ipython",
    "version": 3
   },
   "file_extension": ".py",
   "mimetype": "text/x-python",
   "name": "python",
   "nbconvert_exporter": "python",
   "pygments_lexer": "ipython3",
   "version": "3.12.1"
  }
 },
 "nbformat": 4,
 "nbformat_minor": 2
}
