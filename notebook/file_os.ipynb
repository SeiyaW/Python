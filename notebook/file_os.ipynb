{
 "cells": [
  {
   "cell_type": "code",
   "execution_count": 1,
   "metadata": {},
   "outputs": [
    {
     "data": {
      "text/plain": [
       "'c:\\\\Users\\\\81904\\\\Documents\\\\Python\\\\notebook'"
      ]
     },
     "execution_count": 1,
     "metadata": {},
     "output_type": "execute_result"
    }
   ],
   "source": [
    "# 現在、作業中のディレクトリを取得する\n",
    "# カレントディレクトリを取得する\n",
    "import os\n",
    "os.getcwd()"
   ]
  },
  {
   "cell_type": "code",
   "execution_count": 4,
   "metadata": {},
   "outputs": [
    {
     "name": "stdout",
     "output_type": "stream",
     "text": [
      "C:\\Windows\\System32\n",
      "c:\\Users\\81904\\Documents\\Python\\notebook\n"
     ]
    }
   ],
   "source": [
    "# ディレクトリを移動する\n",
    "import os\n",
    "os.chdir('C:/Windows/System32')\n",
    "print(os.getcwd())              # 移動後のディレクトリを出力する\n",
    "\n",
    "# 元のディレクトリを引数にして移動\n",
    "os.chdir('c:/Users/81904/Documents/Python/notebook')\n",
    "print(os.getcwd())"
   ]
  },
  {
   "cell_type": "code",
   "execution_count": 5,
   "metadata": {},
   "outputs": [],
   "source": [
    "# 新規のフォルダーを作成する\n",
    "import os\n",
    "os.makedirs('C:/Users/81904/Documents/Python/notebook/test/sample/my')"
   ]
  },
  {
   "cell_type": "code",
   "execution_count": 7,
   "metadata": {},
   "outputs": [
    {
     "name": "stdout",
     "output_type": "stream",
     "text": [
      "c:\\Users\\81904\\Documents\\Python\\notebook\n"
     ]
    }
   ],
   "source": [
    "#絶対パスを取得・確認する\n",
    "import os\n",
    "# カレントディレクトリの相対パスを指定して絶対パスを取得\n",
    "path = os.path.abspath('.')\n",
    "# パスとして出力\n",
    "print(os.getcwd())"
   ]
  },
  {
   "cell_type": "code",
   "execution_count": 8,
   "metadata": {},
   "outputs": [
    {
     "data": {
      "text/plain": [
       "True"
      ]
     },
     "execution_count": 8,
     "metadata": {},
     "output_type": "execute_result"
    }
   ],
   "source": [
    "os.path.isabs(os.path.abspath('.'))"
   ]
  },
  {
   "cell_type": "code",
   "execution_count": 9,
   "metadata": {},
   "outputs": [
    {
     "name": "stdout",
     "output_type": "stream",
     "text": [
      "Windows\n"
     ]
    }
   ],
   "source": [
    "# 任意のフォルダー間の相対パスを取得する\n",
    "import os\n",
    "# Cドライブ直下からWindowsフォルダーへの相対パスを調べる\n",
    "path = os.path.relpath('C:/Windows', 'C:/')\n",
    "print(path)"
   ]
  },
  {
   "cell_type": "code",
   "execution_count": 10,
   "metadata": {},
   "outputs": [
    {
     "name": "stdout",
     "output_type": "stream",
     "text": [
      "..\\Windows\n"
     ]
    }
   ],
   "source": [
    "# C:/Program FilesからC:/Windowsへの相対パスを調べる\n",
    "path = os.path.relpath('C:/Windows', 'C:/Program Files')\n",
    "print(path)"
   ]
  },
  {
   "cell_type": "code",
   "execution_count": 11,
   "metadata": {},
   "outputs": [
    {
     "name": "stdout",
     "output_type": "stream",
     "text": [
      "..\\..\\..\\..\\..\\Windows\n"
     ]
    }
   ],
   "source": [
    "# カレントディレクトリからC:/Windowsへの相対パスを調べる\n",
    "path = os.path.relpath('C:/Windows', '.')\n",
    "print(path)"
   ]
  },
  {
   "cell_type": "code",
   "execution_count": 12,
   "metadata": {},
   "outputs": [
    {
     "name": "stdout",
     "output_type": "stream",
     "text": [
      "C:/Windows/System32\n"
     ]
    }
   ],
   "source": [
    "# パスをディレクトリパスとベースメインい分けて取得する\n",
    "import os\n",
    "# 「メモ帳」の実行ファイルのパス\n",
    "path = 'C:/Windows/System32/notepad.exe'\n",
    "# ディレクトリのパスを取得\n",
    "dir_path = os.path.dirname(path)\n",
    "print(dir_path)"
   ]
  },
  {
   "cell_type": "code",
   "execution_count": 13,
   "metadata": {},
   "outputs": [
    {
     "name": "stdout",
     "output_type": "stream",
     "text": [
      "notepad.exe\n"
     ]
    }
   ],
   "source": [
    "# ベース名を取得\n",
    "base_path = os.path.basename(path)\n",
    "print(base_path)"
   ]
  },
  {
   "cell_type": "code",
   "execution_count": 15,
   "metadata": {},
   "outputs": [
    {
     "name": "stdout",
     "output_type": "stream",
     "text": [
      "\\\n"
     ]
    }
   ],
   "source": [
    "# パスのすべての要素を分解して取得する\n",
    "import os\n",
    "sep = os.sep\n",
    "print(sep)"
   ]
  },
  {
   "cell_type": "code",
   "execution_count": 16,
   "metadata": {},
   "outputs": [
    {
     "data": {
      "text/plain": [
       "['c:', 'Users', '81904', 'Documents', 'Python', 'notebook']"
      ]
     },
     "execution_count": 16,
     "metadata": {},
     "output_type": "execute_result"
    }
   ],
   "source": [
    "# パスを分解してリストとして取得する\n",
    "path = os.getcwd()\n",
    "path.split(os.sep)"
   ]
  },
  {
   "cell_type": "code",
   "execution_count": 18,
   "metadata": {},
   "outputs": [
    {
     "name": "stdout",
     "output_type": "stream",
     "text": [
      "c:\\Users\\81904\\Documents\\Python\\notebook\\test\n"
     ]
    }
   ],
   "source": [
    "# カレントディレクトリに新規フォルダを作成する\n",
    "import os\n",
    "path = os.path.join(os.getcwd(), 'test')\n",
    "print(path)\n",
    "os.makedirs(path)"
   ]
  },
  {
   "cell_type": "code",
   "execution_count": 19,
   "metadata": {},
   "outputs": [
    {
     "data": {
      "text/plain": [
       "360448"
      ]
     },
     "execution_count": 19,
     "metadata": {},
     "output_type": "execute_result"
    }
   ],
   "source": [
    "# ファイルサイズを調べる\n",
    "import os\n",
    "os.path.getsize('C:/Windows/System32/notepad.exe')"
   ]
  },
  {
   "cell_type": "code",
   "execution_count": 20,
   "metadata": {},
   "outputs": [
    {
     "data": {
      "text/plain": [
       "['classmethod.ipynb',\n",
       " 'database.ipynb',\n",
       " 'document.ipynb',\n",
       " 'file_os.ipynb',\n",
       " 'game_property.ipynb',\n",
       " 'notebook01.ipynb',\n",
       " 'notebook100to109.ipynb',\n",
       " 'notebook110to119.ipynb',\n",
       " 'notebook50to59.ipynb',\n",
       " 'notebook60to69.ipynb',\n",
       " 'notebook70to79.ipynb',\n",
       " 'notebook80to89.ipynb',\n",
       " 'notebook90to99.ipynb',\n",
       " 'property.ipynb',\n",
       " 'test',\n",
       " 'tkinter.ipynb',\n",
       " 'yahootest.ipynb']"
      ]
     },
     "execution_count": 20,
     "metadata": {},
     "output_type": "execute_result"
    }
   ],
   "source": [
    "# フォルダの内容を調べる\n",
    "import os\n",
    "path = os.getcwd()\n",
    "os.listdir(path)"
   ]
  },
  {
   "cell_type": "code",
   "execution_count": 24,
   "metadata": {},
   "outputs": [
    {
     "name": "stdout",
     "output_type": "stream",
     "text": [
      "c:\\Users\\81904\\Documents\\Python\\notebook\n",
      "None\n"
     ]
    }
   ],
   "source": [
    "# フォルダー内のファイルの合計サイズを取得する関数\n",
    "import os\n",
    "def fileSize(path):\n",
    "    \"\"\"フォルダ内のファイルの合計サイズを取得する関数\n",
    "    \n",
    "    Args:\n",
    "        path (str): フォルダーのパス\n",
    "    Returns:\n",
    "        (int): ファイルサイズの合計\n",
    "    \"\"\"\n",
    "    # ファイルサイズを保持する変数\n",
    "    size = 0\n",
    "    # フォルダー内のすべてのファイル名をループ処理\n",
    "    for filename in os.listdir(path):\n",
    "        # ファイルサイズを取得してsizeに足し合わせる\n",
    "        size = size + os.path.getsize(\n",
    "            os.path.join(path, filename)\n",
    "        )\n",
    "    \n",
    "    # 合計サイズを戻り値として返す\n",
    "    return \n",
    "\n",
    "path = os.getcwd()\n",
    "size = fileSize(path)\n",
    "print(size)"
   ]
  },
  {
   "cell_type": "code",
   "execution_count": 1,
   "metadata": {},
   "outputs": [
    {
     "data": {
      "text/plain": [
       "True"
      ]
     },
     "execution_count": 1,
     "metadata": {},
     "output_type": "execute_result"
    }
   ],
   "source": [
    "# パスが正しいかを調べる\n",
    "import os\n",
    "os.path.exists('C:/Windows')"
   ]
  },
  {
   "cell_type": "code",
   "execution_count": 2,
   "metadata": {},
   "outputs": [
    {
     "data": {
      "text/plain": [
       "False"
      ]
     },
     "execution_count": 2,
     "metadata": {},
     "output_type": "execute_result"
    }
   ],
   "source": [
    "os.path.isfile('C:/Windows')"
   ]
  },
  {
   "cell_type": "code",
   "execution_count": 2,
   "metadata": {},
   "outputs": [
    {
     "name": "stdout",
     "output_type": "stream",
     "text": [
      "ファイルを保存しました。\n"
     ]
    }
   ],
   "source": [
    "# 変数専用ファイルにデータを保管する\n",
    "import shelve\n",
    "\n",
    "def save_shelve(fname, key, list):\n",
    "    \"\"\"リストの要素をshelveオブジェクトとしてファイルに保存する関数\n",
    "    \n",
    "    Args:\n",
    "        fname(str): 保存するファイル名\n",
    "        key  (str): データにつけるキー\n",
    "        list(list): 保存するデータ\n",
    "    \"\"\"\n",
    "\n",
    "    # fnameのファイルをオープン\n",
    "    shelve_file = shelve.open(fname)\n",
    "    # キーの名前を'key'にしてlistに保存する\n",
    "    shelve_file[key] = list\n",
    "    # ファイルを閉じる\n",
    "    shelve_file.close()\n",
    "    # メッセージ\n",
    "    print('ファイルを保存しました。')\n",
    "\n",
    "# カレントディレクトリの「data」フォルダー以下の「shelve」をファイル名にする\n",
    "fname = 'data/shelve'\n",
    "# キーを指定\n",
    "key = 'dl'\n",
    "# 保存するデータ（リスト）\n",
    "lst = ['秀和太郎','秀和花子','東陽次郎']\n",
    "# save_shelve()を実行してデータを保存\n",
    "save_shelve(fname, key, lst)"
   ]
  },
  {
   "cell_type": "code",
   "execution_count": 3,
   "metadata": {},
   "outputs": [
    {
     "name": "stdout",
     "output_type": "stream",
     "text": [
      "['秀和太郎', '秀和花子', '東陽次郎']\n"
     ]
    }
   ],
   "source": [
    "# shelveオブジェクトのファイルをオープンしてデータを取り出す\n",
    "import shelve\n",
    "\n",
    "# カレントディレクトリの「data」フォルダー以下の「shelve」をファイル名として指定\n",
    "fname = 'data/shelve'\n",
    "# shelveファイルを開く\n",
    "shelve_file = shelve.open(fname)\n",
    "# 保存済みのデータを取得して出力\n",
    "print(shelve_file[key])\n",
    "# ファイルを閉じる\n",
    "shelve_file.close()"
   ]
  },
  {
   "cell_type": "code",
   "execution_count": 4,
   "metadata": {},
   "outputs": [
    {
     "name": "stdout",
     "output_type": "stream",
     "text": [
      "ファイルを保存しました。\n",
      "values =  [['秀和太郎', '秀和花子', '東陽次郎'], ['A1', 'B2', 'A2']]\n"
     ]
    }
   ],
   "source": [
    "# shelveファイルにデータを追加してデータの一覧を取得する\n",
    "import shelve\n",
    "# カレントディレクトリの「data」フォルダー以下の「shelve」をファイル名として指定\n",
    "fname = 'data/shelve'\n",
    "# キー\n",
    "key = 'd2'\n",
    "# 保存するデータを作成\n",
    "lst = ['A1', 'B2', 'A2']\n",
    "# データを保存\n",
    "save_shelve(fname, key, lst)\n",
    "\n",
    "# shelveファイルを開く\n",
    "shelve_file = shelve.open(fname)\n",
    "# 登録済みのキーの一覧を取得\n",
    "keys = list(shelve_file.values())\n",
    "# 登録済みの値の一覧をlist()を使って取得\n",
    "values = list(shelve_file.values())\n",
    "print('values = ', values)\n",
    "# ファイルを閉じる\n",
    "shelve_file.close()"
   ]
  },
  {
   "cell_type": "code",
   "execution_count": 7,
   "metadata": {},
   "outputs": [
    {
     "data": {
      "text/plain": [
       "\"[{'id': 'A101', 'name': '秀和太郎'},\\n {'id': 'B101', 'name': '秀和花子'},\\n {'id': 'A102', 'name': '東陽次郎'}]\""
      ]
     },
     "execution_count": 7,
     "metadata": {},
     "output_type": "execute_result"
    }
   ],
   "source": [
    "import pprint\n",
    "name_id = [\n",
    "    {'name': '秀和太郎', 'id': 'A101'},\n",
    "    {'name': '秀和花子', 'id': 'B101'},\n",
    "    {'name': '東陽次郎', 'id': 'A102'}\n",
    "]\n",
    "# pprint.pprint(name_id)\n",
    "\n",
    "# name_idをpprint.pformat()でフォーマットする\n",
    "pprint.pformat(name_id)"
   ]
  },
  {
   "cell_type": "code",
   "execution_count": 9,
   "metadata": {},
   "outputs": [
    {
     "ename": "TypeError",
     "evalue": "'encodingj' is an invalid keyword argument for open()",
     "output_type": "error",
     "traceback": [
      "\u001b[1;31m---------------------------------------------------------------------------\u001b[0m",
      "\u001b[1;31mTypeError\u001b[0m                                 Traceback (most recent call last)",
      "Cell \u001b[1;32mIn[9], line 27\u001b[0m\n\u001b[0;32m     23\u001b[0m lst_name \u001b[38;5;241m=\u001b[39m \u001b[38;5;124m'\u001b[39m\u001b[38;5;124mname_id\u001b[39m\u001b[38;5;124m'\u001b[39m\n\u001b[0;32m     24\u001b[0m lst \u001b[38;5;241m=\u001b[39m [ {\u001b[38;5;124m'\u001b[39m\u001b[38;5;124mname\u001b[39m\u001b[38;5;124m'\u001b[39m:\u001b[38;5;124m'\u001b[39m\u001b[38;5;124m秀和太郎\u001b[39m\u001b[38;5;124m'\u001b[39m, \u001b[38;5;124m'\u001b[39m\u001b[38;5;124mid\u001b[39m\u001b[38;5;124m'\u001b[39m:\u001b[38;5;124m'\u001b[39m\u001b[38;5;124mA101\u001b[39m\u001b[38;5;124m'\u001b[39m},\n\u001b[0;32m     25\u001b[0m         {\u001b[38;5;124m'\u001b[39m\u001b[38;5;124mname\u001b[39m\u001b[38;5;124m'\u001b[39m:\u001b[38;5;124m'\u001b[39m\u001b[38;5;124m秀和花子\u001b[39m\u001b[38;5;124m'\u001b[39m, \u001b[38;5;124m'\u001b[39m\u001b[38;5;124mid\u001b[39m\u001b[38;5;124m'\u001b[39m:\u001b[38;5;124m'\u001b[39m\u001b[38;5;124mB101\u001b[39m\u001b[38;5;124m'\u001b[39m},\n\u001b[0;32m     26\u001b[0m         {\u001b[38;5;124m'\u001b[39m\u001b[38;5;124mname\u001b[39m\u001b[38;5;124m'\u001b[39m:\u001b[38;5;124m'\u001b[39m\u001b[38;5;124m東陽次郎\u001b[39m\u001b[38;5;124m'\u001b[39m, \u001b[38;5;124m'\u001b[39m\u001b[38;5;124mid\u001b[39m\u001b[38;5;124m'\u001b[39m:\u001b[38;5;124m'\u001b[39m\u001b[38;5;124mA102\u001b[39m\u001b[38;5;124m'\u001b[39m}]\n\u001b[1;32m---> 27\u001b[0m \u001b[43msave_listdef\u001b[49m\u001b[43m(\u001b[49m\u001b[43mfname\u001b[49m\u001b[43m,\u001b[49m\u001b[43m \u001b[49m\u001b[43mlst_name\u001b[49m\u001b[43m,\u001b[49m\u001b[43m \u001b[49m\u001b[43mlst\u001b[49m\u001b[43m)\u001b[49m\n",
      "Cell \u001b[1;32mIn[9], line 12\u001b[0m, in \u001b[0;36msave_listdef\u001b[1;34m(fname, lst_name, lst)\u001b[0m\n\u001b[0;32m      4\u001b[0m \u001b[38;5;250m\u001b[39m\u001b[38;5;124;03m\"\"\"リストの定義コードをファイルに保存する\u001b[39;00m\n\u001b[0;32m      5\u001b[0m \u001b[38;5;124;03m\u001b[39;00m\n\u001b[0;32m      6\u001b[0m \u001b[38;5;124;03mArgs:\u001b[39;00m\n\u001b[1;32m   (...)\u001b[0m\n\u001b[0;32m      9\u001b[0m \u001b[38;5;124;03m    lst(list) : dictを要素とするリスト\u001b[39;00m\n\u001b[0;32m     10\u001b[0m \u001b[38;5;124;03m\"\"\"\u001b[39;00m\n\u001b[0;32m     11\u001b[0m \u001b[38;5;66;03m# ファイルを書き込みモードで開く\u001b[39;00m\n\u001b[1;32m---> 12\u001b[0m file \u001b[38;5;241m=\u001b[39m \u001b[38;5;28;43mopen\u001b[39;49m\u001b[43m(\u001b[49m\u001b[43mfname\u001b[49m\u001b[43m,\u001b[49m\n\u001b[0;32m     13\u001b[0m \u001b[43m            \u001b[49m\u001b[38;5;124;43m'\u001b[39;49m\u001b[38;5;124;43mw\u001b[39;49m\u001b[38;5;124;43m'\u001b[39;49m\u001b[43m,\u001b[49m\n\u001b[0;32m     14\u001b[0m \u001b[43m            \u001b[49m\u001b[43mencodingj\u001b[49m\u001b[43m \u001b[49m\u001b[38;5;241;43m=\u001b[39;49m\u001b[43m \u001b[49m\u001b[38;5;124;43m'\u001b[39;49m\u001b[38;5;124;43mutf-8\u001b[39;49m\u001b[38;5;124;43m'\u001b[39;49m\n\u001b[0;32m     15\u001b[0m \u001b[43m            \u001b[49m\u001b[43m)\u001b[49m\n\u001b[0;32m     16\u001b[0m \u001b[38;5;66;03m# リストの定義コードをファイルに書き込む\u001b[39;00m\n\u001b[0;32m     17\u001b[0m \u001b[38;5;66;03m# 1行ずつ改行するように、末尾に改行コードを付けてから連結する\u001b[39;00m\n\u001b[0;32m     18\u001b[0m file\u001b[38;5;241m.\u001b[39mwrite(lst_name \u001b[38;5;241m+\u001b[39m \u001b[38;5;124m'\u001b[39m\u001b[38;5;124m = \u001b[39m\u001b[38;5;124m'\u001b[39m \u001b[38;5;241m+\u001b[39m pprint\u001b[38;5;241m.\u001b[39mpformat(lst) \u001b[38;5;241m+\u001b[39m \u001b[38;5;124m'\u001b[39m\u001b[38;5;130;01m\\n\u001b[39;00m\u001b[38;5;124m'\u001b[39m)\n",
      "File \u001b[1;32mc:\\Users\\81904\\AppData\\Local\\Programs\\Python\\Python312\\Lib\\site-packages\\IPython\\core\\interactiveshell.py:310\u001b[0m, in \u001b[0;36m_modified_open\u001b[1;34m(file, *args, **kwargs)\u001b[0m\n\u001b[0;32m    303\u001b[0m \u001b[38;5;28;01mif\u001b[39;00m file \u001b[38;5;129;01min\u001b[39;00m {\u001b[38;5;241m0\u001b[39m, \u001b[38;5;241m1\u001b[39m, \u001b[38;5;241m2\u001b[39m}:\n\u001b[0;32m    304\u001b[0m     \u001b[38;5;28;01mraise\u001b[39;00m \u001b[38;5;167;01mValueError\u001b[39;00m(\n\u001b[0;32m    305\u001b[0m         \u001b[38;5;124mf\u001b[39m\u001b[38;5;124m\"\u001b[39m\u001b[38;5;124mIPython won\u001b[39m\u001b[38;5;124m'\u001b[39m\u001b[38;5;124mt let you open fd=\u001b[39m\u001b[38;5;132;01m{\u001b[39;00mfile\u001b[38;5;132;01m}\u001b[39;00m\u001b[38;5;124m by default \u001b[39m\u001b[38;5;124m\"\u001b[39m\n\u001b[0;32m    306\u001b[0m         \u001b[38;5;124m\"\u001b[39m\u001b[38;5;124mas it is likely to crash IPython. If you know what you are doing, \u001b[39m\u001b[38;5;124m\"\u001b[39m\n\u001b[0;32m    307\u001b[0m         \u001b[38;5;124m\"\u001b[39m\u001b[38;5;124myou can use builtins\u001b[39m\u001b[38;5;124m'\u001b[39m\u001b[38;5;124m open.\u001b[39m\u001b[38;5;124m\"\u001b[39m\n\u001b[0;32m    308\u001b[0m     )\n\u001b[1;32m--> 310\u001b[0m \u001b[38;5;28;01mreturn\u001b[39;00m \u001b[43mio_open\u001b[49m\u001b[43m(\u001b[49m\u001b[43mfile\u001b[49m\u001b[43m,\u001b[49m\u001b[43m \u001b[49m\u001b[38;5;241;43m*\u001b[39;49m\u001b[43margs\u001b[49m\u001b[43m,\u001b[49m\u001b[43m \u001b[49m\u001b[38;5;241;43m*\u001b[39;49m\u001b[38;5;241;43m*\u001b[39;49m\u001b[43mkwargs\u001b[49m\u001b[43m)\u001b[49m\n",
      "\u001b[1;31mTypeError\u001b[0m: 'encodingj' is an invalid keyword argument for open()"
     ]
    }
   ],
   "source": [
    "import pprint\n",
    "\n",
    "def save_listdef(fname, lst_name, lst):\n",
    "    \"\"\"リストの定義コードをファイルに保存する\n",
    "    \n",
    "    Args:\n",
    "        fname(str) : 保存するファイル名\n",
    "        lst_name(list) : リストの変数名\n",
    "        lst(list) : dictを要素とするリスト\n",
    "    \"\"\"\n",
    "    # ファイルを書き込みモードで開く\n",
    "    file = open(fname,\n",
    "                'w',\n",
    "                encoding = 'utf-8'\n",
    "                )\n",
    "    # リストの定義コードをファイルに書き込む\n",
    "    # 1行ずつ改行するように、末尾に改行コードを付けてから連結する\n",
    "    file.write(lst_name + ' = ' + pprint.pformat(lst) + '\\n')\n",
    "    # ファイルを閉じる\n",
    "    file.close()\n",
    "\n",
    "fname = 'data/module.py'\n",
    "lst_name = 'name_id'\n",
    "lst = [ {'name':'秀和太郎', 'id':'A101'},\n",
    "        {'name':'秀和花子', 'id':'B101'},\n",
    "        {'name':'東陽次郎', 'id':'A102'}]\n",
    "save_listdef(fname, lst_name, lst)"
   ]
  },
  {
   "cell_type": "code",
   "execution_count": null,
   "metadata": {},
   "outputs": [],
   "source": []
  }
 ],
 "metadata": {
  "kernelspec": {
   "display_name": "Python 3",
   "language": "python",
   "name": "python3"
  },
  "language_info": {
   "codemirror_mode": {
    "name": "ipython",
    "version": 3
   },
   "file_extension": ".py",
   "mimetype": "text/x-python",
   "name": "python",
   "nbconvert_exporter": "python",
   "pygments_lexer": "ipython3",
   "version": "3.12.1"
  }
 },
 "nbformat": 4,
 "nbformat_minor": 2
}
