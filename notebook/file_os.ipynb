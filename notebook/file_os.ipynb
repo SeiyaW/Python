{
 "cells": [
  {
   "cell_type": "code",
   "execution_count": 1,
   "metadata": {},
   "outputs": [
    {
     "data": {
      "text/plain": [
       "'c:\\\\Users\\\\81904\\\\Documents\\\\Python\\\\notebook'"
      ]
     },
     "execution_count": 1,
     "metadata": {},
     "output_type": "execute_result"
    }
   ],
   "source": [
    "# 現在、作業中のディレクトリを取得する\n",
    "# カレントディレクトリを取得する\n",
    "import os\n",
    "os.getcwd()"
   ]
  },
  {
   "cell_type": "code",
   "execution_count": 4,
   "metadata": {},
   "outputs": [
    {
     "name": "stdout",
     "output_type": "stream",
     "text": [
      "C:\\Windows\\System32\n",
      "c:\\Users\\81904\\Documents\\Python\\notebook\n"
     ]
    }
   ],
   "source": [
    "# ディレクトリを移動する\n",
    "import os\n",
    "os.chdir('C:/Windows/System32')\n",
    "print(os.getcwd())              # 移動後のディレクトリを出力する\n",
    "\n",
    "# 元のディレクトリを引数にして移動\n",
    "os.chdir('c:/Users/81904/Documents/Python/notebook')\n",
    "print(os.getcwd())"
   ]
  },
  {
   "cell_type": "code",
   "execution_count": 5,
   "metadata": {},
   "outputs": [],
   "source": [
    "# 新規のフォルダーを作成する\n",
    "import os\n",
    "os.makedirs('C:/Users/81904/Documents/Python/notebook/test/sample/my')"
   ]
  },
  {
   "cell_type": "code",
   "execution_count": 7,
   "metadata": {},
   "outputs": [
    {
     "name": "stdout",
     "output_type": "stream",
     "text": [
      "c:\\Users\\81904\\Documents\\Python\\notebook\n"
     ]
    }
   ],
   "source": [
    "#絶対パスを取得・確認する\n",
    "import os\n",
    "# カレントディレクトリの相対パスを指定して絶対パスを取得\n",
    "path = os.path.abspath('.')\n",
    "# パスとして出力\n",
    "print(os.getcwd())"
   ]
  },
  {
   "cell_type": "code",
   "execution_count": 8,
   "metadata": {},
   "outputs": [
    {
     "data": {
      "text/plain": [
       "True"
      ]
     },
     "execution_count": 8,
     "metadata": {},
     "output_type": "execute_result"
    }
   ],
   "source": [
    "os.path.isabs(os.path.abspath('.'))"
   ]
  },
  {
   "cell_type": "code",
   "execution_count": 9,
   "metadata": {},
   "outputs": [
    {
     "name": "stdout",
     "output_type": "stream",
     "text": [
      "Windows\n"
     ]
    }
   ],
   "source": [
    "# 任意のフォルダー間の相対パスを取得する\n",
    "import os\n",
    "# Cドライブ直下からWindowsフォルダーへの相対パスを調べる\n",
    "path = os.path.relpath('C:/Windows', 'C:/')\n",
    "print(path)"
   ]
  },
  {
   "cell_type": "code",
   "execution_count": 10,
   "metadata": {},
   "outputs": [
    {
     "name": "stdout",
     "output_type": "stream",
     "text": [
      "..\\Windows\n"
     ]
    }
   ],
   "source": [
    "# C:/Program FilesからC:/Windowsへの相対パスを調べる\n",
    "path = os.path.relpath('C:/Windows', 'C:/Program Files')\n",
    "print(path)"
   ]
  },
  {
   "cell_type": "code",
   "execution_count": 11,
   "metadata": {},
   "outputs": [
    {
     "name": "stdout",
     "output_type": "stream",
     "text": [
      "..\\..\\..\\..\\..\\Windows\n"
     ]
    }
   ],
   "source": [
    "# カレントディレクトリからC:/Windowsへの相対パスを調べる\n",
    "path = os.path.relpath('C:/Windows', '.')\n",
    "print(path)"
   ]
  },
  {
   "cell_type": "code",
   "execution_count": 12,
   "metadata": {},
   "outputs": [
    {
     "name": "stdout",
     "output_type": "stream",
     "text": [
      "C:/Windows/System32\n"
     ]
    }
   ],
   "source": [
    "# パスをディレクトリパスとベースメインい分けて取得する\n",
    "import os\n",
    "# 「メモ帳」の実行ファイルのパス\n",
    "path = 'C:/Windows/System32/notepad.exe'\n",
    "# ディレクトリのパスを取得\n",
    "dir_path = os.path.dirname(path)\n",
    "print(dir_path)"
   ]
  },
  {
   "cell_type": "code",
   "execution_count": 13,
   "metadata": {},
   "outputs": [
    {
     "name": "stdout",
     "output_type": "stream",
     "text": [
      "notepad.exe\n"
     ]
    }
   ],
   "source": [
    "# ベース名を取得\n",
    "base_path = os.path.basename(path)\n",
    "print(base_path)"
   ]
  },
  {
   "cell_type": "code",
   "execution_count": 15,
   "metadata": {},
   "outputs": [
    {
     "name": "stdout",
     "output_type": "stream",
     "text": [
      "\\\n"
     ]
    }
   ],
   "source": [
    "# パスのすべての要素を分解して取得する\n",
    "import os\n",
    "sep = os.sep\n",
    "print(sep)"
   ]
  },
  {
   "cell_type": "code",
   "execution_count": 16,
   "metadata": {},
   "outputs": [
    {
     "data": {
      "text/plain": [
       "['c:', 'Users', '81904', 'Documents', 'Python', 'notebook']"
      ]
     },
     "execution_count": 16,
     "metadata": {},
     "output_type": "execute_result"
    }
   ],
   "source": [
    "# パスを分解してリストとして取得する\n",
    "path = os.getcwd()\n",
    "path.split(os.sep)"
   ]
  },
  {
   "cell_type": "code",
   "execution_count": 18,
   "metadata": {},
   "outputs": [
    {
     "name": "stdout",
     "output_type": "stream",
     "text": [
      "c:\\Users\\81904\\Documents\\Python\\notebook\\test\n"
     ]
    }
   ],
   "source": [
    "# カレントディレクトリに新規フォルダを作成する\n",
    "import os\n",
    "path = os.path.join(os.getcwd(), 'test')\n",
    "print(path)\n",
    "os.makedirs(path)"
   ]
  },
  {
   "cell_type": "code",
   "execution_count": 19,
   "metadata": {},
   "outputs": [
    {
     "data": {
      "text/plain": [
       "360448"
      ]
     },
     "execution_count": 19,
     "metadata": {},
     "output_type": "execute_result"
    }
   ],
   "source": [
    "# ファイルサイズを調べる\n",
    "import os\n",
    "os.path.getsize('C:/Windows/System32/notepad.exe')"
   ]
  },
  {
   "cell_type": "code",
   "execution_count": 20,
   "metadata": {},
   "outputs": [
    {
     "data": {
      "text/plain": [
       "['classmethod.ipynb',\n",
       " 'database.ipynb',\n",
       " 'document.ipynb',\n",
       " 'file_os.ipynb',\n",
       " 'game_property.ipynb',\n",
       " 'notebook01.ipynb',\n",
       " 'notebook100to109.ipynb',\n",
       " 'notebook110to119.ipynb',\n",
       " 'notebook50to59.ipynb',\n",
       " 'notebook60to69.ipynb',\n",
       " 'notebook70to79.ipynb',\n",
       " 'notebook80to89.ipynb',\n",
       " 'notebook90to99.ipynb',\n",
       " 'property.ipynb',\n",
       " 'test',\n",
       " 'tkinter.ipynb',\n",
       " 'yahootest.ipynb']"
      ]
     },
     "execution_count": 20,
     "metadata": {},
     "output_type": "execute_result"
    }
   ],
   "source": [
    "# フォルダの内容を調べる\n",
    "import os\n",
    "path = os.getcwd()\n",
    "os.listdir(path)"
   ]
  },
  {
   "cell_type": "code",
   "execution_count": 24,
   "metadata": {},
   "outputs": [
    {
     "name": "stdout",
     "output_type": "stream",
     "text": [
      "c:\\Users\\81904\\Documents\\Python\\notebook\n",
      "None\n"
     ]
    }
   ],
   "source": [
    "# フォルダー内のファイルの合計サイズを取得する関数\n",
    "import os\n",
    "def fileSize(path):\n",
    "    \"\"\"フォルダ内のファイルの合計サイズを取得する関数\n",
    "    \n",
    "    Args:\n",
    "        path (str): フォルダーのパス\n",
    "    Returns:\n",
    "        (int): ファイルサイズの合計\n",
    "    \"\"\"\n",
    "    # ファイルサイズを保持する変数\n",
    "    size = 0\n",
    "    # フォルダー内のすべてのファイル名をループ処理\n",
    "    for filename in os.listdir(path):\n",
    "        # ファイルサイズを取得してsizeに足し合わせる\n",
    "        size = size + os.path.getsize(\n",
    "            os.path.join(path, filename)\n",
    "        )\n",
    "    \n",
    "    # 合計サイズを戻り値として返す\n",
    "    return \n",
    "\n",
    "path = os.getcwd()\n",
    "size = fileSize(path)\n",
    "print(size)"
   ]
  },
  {
   "cell_type": "code",
   "execution_count": null,
   "metadata": {},
   "outputs": [],
   "source": []
  }
 ],
 "metadata": {
  "kernelspec": {
   "display_name": "Python 3",
   "language": "python",
   "name": "python3"
  },
  "language_info": {
   "codemirror_mode": {
    "name": "ipython",
    "version": 3
   },
   "file_extension": ".py",
   "mimetype": "text/x-python",
   "name": "python",
   "nbconvert_exporter": "python",
   "pygments_lexer": "ipython3",
   "version": "3.12.1"
  }
 },
 "nbformat": 4,
 "nbformat_minor": 2
}
