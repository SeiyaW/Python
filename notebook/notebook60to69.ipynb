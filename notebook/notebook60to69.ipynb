{
 "cells": [
  {
   "cell_type": "code",
   "execution_count": null,
   "metadata": {},
   "outputs": [],
   "source": [
    "character = ['ダースベイダー', 'ルーク・スカイウォーカー', 'ハン・ソロ', 'ジャバ・ザ・ハット']\n",
    "\n",
    "# 1番目～３番目の要素をスライス\n",
    "# character[0:3]\n",
    "\n",
    "# ステップ数のみを指定して１つおきにスライスする\n",
    "character[::2]"
   ]
  },
  {
   "cell_type": "code",
   "execution_count": null,
   "metadata": {},
   "outputs": [],
   "source": [
    "character = ['ダースベイダー', 'ルーク・スカイウォーカー', 'ハン・ソロ']\n",
    "character[0] = 'ダース・モール'\n",
    "\n",
    "# 末尾に追加\n",
    "character.append('ジャバ・ザ・ハット')\n",
    "character"
   ]
  },
  {
   "cell_type": "code",
   "execution_count": null,
   "metadata": {},
   "outputs": [],
   "source": [
    "character = ['ダースベイダー', 'ルーク・スカイウォーカー', 'ハン・ソロ', 'ジャバ・ザ・ハット']\n",
    "delete = character.pop()    # 末尾の要素を取り出す\n",
    "delete"
   ]
  },
  {
   "cell_type": "code",
   "execution_count": null,
   "metadata": {},
   "outputs": [],
   "source": [
    "# プレイヤーの攻撃とモンスターの反応を繰り返す\n",
    "# 攻撃パターン\n",
    "brave = ['パイソンのこうげき！', 'パイソンは身を守っている', 'パイソンはにげだした']\n",
    "# モンスターの反応パターン\n",
    "monster = ['魔物たちは反撃した', '魔物たちは身構えている']\n",
    "# ２つのリストの要素数を調べて少ないほうをnに代入する\n",
    "n = min(len(brave),     # braveの要素数\n",
    "        len(monster)    # monsterの要素数\n",
    "    )\n",
    "# 少ない要素数でrangeオブジェクトを生成して処理を繰り返す\n",
    "for i in range(n):\n",
    "    print(\n",
    "        brave[i],       # リストの要素を順番に出力\n",
    "        monster[-i-1],  # リストの末尾要素から順に出力\n",
    "        sep = ' --> '   # 区切り文字を指定\n",
    "    )"
   ]
  },
  {
   "cell_type": "code",
   "execution_count": null,
   "metadata": {},
   "outputs": [],
   "source": [
    "# リストに別のリストの要素を追加する\n",
    "monster1 = ['ガンダーク', 'バルトドロイド']\n",
    "monster2 = ['ごみ漁り', 'ドゥークー伯爵', 'ダース・シディアス']\n",
    "monster1.extend(monster2)\n",
    "monster1"
   ]
  },
  {
   "cell_type": "code",
   "execution_count": 11,
   "metadata": {},
   "outputs": [
    {
     "data": {
      "text/plain": [
       "['ガンダーク', 'ドゥークー伯爵', 'バルトドロイド']"
      ]
     },
     "execution_count": 11,
     "metadata": {},
     "output_type": "execute_result"
    }
   ],
   "source": [
    "# インデックスで指定した壱に要素を追加する\n",
    "monster = ['ガンダーク', 'バルトドロイド']\n",
    "# 2番目の位置に追加する\n",
    "monster.insert(1, 'ドゥークー伯爵')\n",
    "monster"
   ]
  },
  {
   "cell_type": "code",
   "execution_count": 13,
   "metadata": {},
   "outputs": [
    {
     "data": {
      "text/plain": [
       "['ガンダーク', 'バルトドロイド']"
      ]
     },
     "execution_count": 13,
     "metadata": {},
     "output_type": "execute_result"
    }
   ],
   "source": [
    "# インデックスで指定した要素を削除する\n",
    "monster = ['ガンダーク', 'ドゥークー伯爵', 'バルトドロイド']\n",
    "# 2番目の要素を削除\n",
    "# del monster[1]\n",
    "monster.remove('ドゥークー伯爵')\n",
    "monster"
   ]
  },
  {
   "cell_type": "code",
   "execution_count": 1,
   "metadata": {},
   "outputs": [
    {
     "data": {
      "text/plain": [
       "3"
      ]
     },
     "execution_count": 1,
     "metadata": {},
     "output_type": "execute_result"
    }
   ],
   "source": [
    "# インデックスを調べる\n",
    "monster = ['ダース・ベイダー', 'ダース・モール', 'ダース・シディアス']\n",
    "# monster.index('ダース・モール') # インデックスを調べる\n",
    "\n",
    "# 指定した値がリストにあるか調べる\n",
    "# 'ダース・ベイダー' in monster\n",
    "\n",
    "# 指定した要素がリストにいくつあるか調べる\n",
    "droid = ['R2-D2', 'R2-D2', 'C-3PO', 'R2-D2']\n",
    "droid.count('R2-D2')"
   ]
  },
  {
   "cell_type": "code",
   "execution_count": 2,
   "metadata": {},
   "outputs": [
    {
     "data": {
      "text/plain": [
       "['ジャバ・ザ・ハット', 'ダース・ベイダー', 'ハン・ソロ', 'ルーク・スカイウォーカー']"
      ]
     },
     "execution_count": 2,
     "metadata": {},
     "output_type": "execute_result"
    }
   ],
   "source": [
    "# リストの要素をソートする\n",
    "character = ['ダース・ベイダー', 'ルーク・スカイウォーカー', 'ハン・ソロ', 'ジャバ・ザ・ハット']\n",
    "# 昇順で並べ替え\n",
    "character.sort()\n",
    "character"
   ]
  },
  {
   "cell_type": "code",
   "execution_count": 3,
   "metadata": {},
   "outputs": [
    {
     "data": {
      "text/plain": [
       "[0, 1, 3, 4, 5]"
      ]
     },
     "execution_count": 3,
     "metadata": {},
     "output_type": "execute_result"
    }
   ],
   "source": [
    "# 数値の要素を昇順で並べ替え\n",
    "n = [5, 3, 0, 4, 1]\n",
    "n.sort()\n",
    "n"
   ]
  },
  {
   "cell_type": "code",
   "execution_count": 4,
   "metadata": {},
   "outputs": [
    {
     "data": {
      "text/plain": [
       "[5, 4, 3, 1, 0]"
      ]
     },
     "execution_count": 4,
     "metadata": {},
     "output_type": "execute_result"
    }
   ],
   "source": [
    "# 降順で並べ替え\n",
    "n.sort(reverse=True)\n",
    "n"
   ]
  },
  {
   "cell_type": "code",
   "execution_count": 5,
   "metadata": {},
   "outputs": [
    {
     "data": {
      "text/plain": [
       "['たたかう', 'ぼうぎょ']"
      ]
     },
     "execution_count": 5,
     "metadata": {},
     "output_type": "execute_result"
    }
   ],
   "source": [
    "# リストのコピー\n",
    "pattern1 = ['たたかう', '逃げる']\n",
    "pattern2 = pattern1\n",
    "# pattern1の第2要素を変更する\n",
    "pattern1[1] = 'ぼうぎょ'\n",
    "pattern2"
   ]
  },
  {
   "cell_type": "code",
   "execution_count": 7,
   "metadata": {},
   "outputs": [
    {
     "data": {
      "text/plain": [
       "['たたかう', 'ぼうぎょ']"
      ]
     },
     "execution_count": 7,
     "metadata": {},
     "output_type": "execute_result"
    }
   ],
   "source": [
    "# リストをコピーして新しいリストを作る\n",
    "pattern1 = ['たたかう', 'ぼうぎょ']\n",
    "# pattern1をコピーしてリストpattern2を作成する\n",
    "pattern2 = pattern1.copy()\n",
    "# pattern1を引数にしてリストpattern3を作製する\n",
    "pattern3 = list(pattern1)\n",
    "# pattern1のすべての要素をスライスしてリストpattern4を作成する\n",
    "pattern4 = pattern1 [:]\n",
    "pattern4"
   ]
  },
  {
   "cell_type": "code",
   "execution_count": 8,
   "metadata": {},
   "outputs": [
    {
     "data": {
      "text/plain": [
       "[['ガンダーク', 'バトルドロイド'], ['ごみ漁り', 'ドゥークー伯爵', 'ダース・シティアス']]"
      ]
     },
     "execution_count": 8,
     "metadata": {},
     "output_type": "execute_result"
    }
   ],
   "source": [
    "# リスト要素をリストにする\n",
    "# 1つ目のリスト\n",
    "monster1 = ['ガンダーク', 'バトルドロイド']\n",
    "# 2つ目のリスト\n",
    "monster2 = ['ごみ漁り', 'ドゥークー伯爵', 'ダース・シティアス']\n",
    "# 2つ目のリストを要素にする\n",
    "all_monsters = [monster1, monster2]\n",
    "# リストの要素を持つリストを出力\n",
    "all_monsters"
   ]
  },
  {
   "cell_type": "code",
   "execution_count": null,
   "metadata": {},
   "outputs": [],
   "source": []
  }
 ],
 "metadata": {
  "kernelspec": {
   "display_name": "Python 3",
   "language": "python",
   "name": "python3"
  },
  "language_info": {
   "codemirror_mode": {
    "name": "ipython",
    "version": 3
   },
   "file_extension": ".py",
   "mimetype": "text/x-python",
   "name": "python",
   "nbconvert_exporter": "python",
   "pygments_lexer": "ipython3",
   "version": "3.12.1"
  }
 },
 "nbformat": 4,
 "nbformat_minor": 2
}
