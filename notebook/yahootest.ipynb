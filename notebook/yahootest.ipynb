{
 "cells": [
  {
   "cell_type": "code",
   "execution_count": null,
   "metadata": {},
   "outputs": [],
   "source": [
    "import requests\n",
    "from bs4 import BeautifulSoup\n",
    "\n",
    "xml = requests.get('https://news.yahoo.co.jp/rss/topics/it.xml')\n",
    "soup = BeautifulSoup(xml.text, 'html.parser')\n",
    "for news in soup.findAll('item'):\n",
    "    print(news.title.string)"
   ]
  },
  {
   "cell_type": "code",
   "execution_count": 20,
   "metadata": {},
   "outputs": [
    {
     "name": "stdout",
     "output_type": "stream",
     "text": [
      "東京株、一時800円超高\n",
      "https://news.yahoo.co.jp/pickup/6490933\n",
      "米軍 親イラン武装組織幹部を殺害\n",
      "https://news.yahoo.co.jp/pickup/6490912\n",
      "横田めぐみさん2度帰国試み 証言\n",
      "https://news.yahoo.co.jp/pickup/6490928\n",
      "薬物1キロ飲んだ男 密輸中に死亡\n",
      "https://news.yahoo.co.jp/pickup/6490926\n",
      "ひきこもり支える女子会 広がる\n",
      "https://news.yahoo.co.jp/pickup/6490922\n",
      "大谷追うYouTuber 年444万円投入\n",
      "https://news.yahoo.co.jp/pickup/6490917\n",
      "落選の美誠「張本選手なら納得」\n",
      "https://news.yahoo.co.jp/pickup/6490934\n",
      "「ジョジョ」さらに3公演を中止\n",
      "https://news.yahoo.co.jp/pickup/6490925\n"
     ]
    }
   ],
   "source": [
    "import requests\n",
    "from bs4 import BeautifulSoup\n",
    "import re\n",
    "\n",
    "# ヤフーニュースのトップページ情報を取得する\n",
    "URL = \"https://www.yahoo.co.jp/\"\n",
    "rest = requests.get(URL)\n",
    "\n",
    "# BeautifulSoupにヤフーニュースのページ内容を読み込ませる\n",
    "soup = BeautifulSoup(rest.text, \"html.parser\")\n",
    "\n",
    "# ヤフーニュースの見出しとURLの情報を取得して出力する\n",
    "data_list = soup.find_all(href=re.compile(\"news.yahoo.co.jp/pickup\"))\n",
    "for data in data_list:\n",
    "    print(data.span.string)\n",
    "    print(data.attrs[\"href\"])"
   ]
  },
  {
   "cell_type": "code",
   "execution_count": null,
   "metadata": {},
   "outputs": [],
   "source": []
  }
 ],
 "metadata": {
  "kernelspec": {
   "display_name": "Python 3",
   "language": "python",
   "name": "python3"
  },
  "language_info": {
   "codemirror_mode": {
    "name": "ipython",
    "version": 3
   },
   "file_extension": ".py",
   "mimetype": "text/x-python",
   "name": "python",
   "nbconvert_exporter": "python",
   "pygments_lexer": "ipython3",
   "version": "3.12.1"
  }
 },
 "nbformat": 4,
 "nbformat_minor": 2
}
