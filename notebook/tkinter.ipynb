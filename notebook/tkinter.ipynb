{
 "cells": [
  {
   "cell_type": "code",
   "execution_count": 2,
   "metadata": {},
   "outputs": [],
   "source": [
    "import tkinter as tk\n",
    "\n",
    "base = tk.Tk()      # Tkクラスをインスタンス化する\n",
    "base.mainloop()     # ウィンドウの状態を維持"
   ]
  },
  {
   "cell_type": "code",
   "execution_count": 3,
   "metadata": {},
   "outputs": [],
   "source": [
    "import tkinter as tk\n",
    "\n",
    "root = tk.Tk()                      # メインウィンドウを作成\n",
    "root.geometry('500x400')            # ウィンドウのサイズ設定\n",
    "root.title('Python--tkinter : ')    # ウィンドウのタイトルを設定\n",
    "root.mainloop()                     # ウィンドウの状態を維持"
   ]
  },
  {
   "cell_type": "code",
   "execution_count": 4,
   "metadata": {},
   "outputs": [],
   "source": [
    "import tkinter as tk\n",
    "\n",
    "root = tk.Tk()                      # メインウィンドウを作成\n",
    "root.geometry('200x200')\n",
    "\n",
    "button1 = tk.Button(\n",
    "    root,\n",
    "    text = 'ボタン１'\n",
    ").pack()\n",
    "\n",
    "button2 = tk.Button(root, text='ボタン２').pack()\n",
    "\n",
    "button3 = tk.Button(root, text='ボタン３').pack()\n",
    "\n",
    "root.mainloop()"
   ]
  },
  {
   "cell_type": "code",
   "execution_count": null,
   "metadata": {},
   "outputs": [],
   "source": []
  }
 ],
 "metadata": {
  "kernelspec": {
   "display_name": "Python 3",
   "language": "python",
   "name": "python3"
  },
  "language_info": {
   "codemirror_mode": {
    "name": "ipython",
    "version": 3
   },
   "file_extension": ".py",
   "mimetype": "text/x-python",
   "name": "python",
   "nbconvert_exporter": "python",
   "pygments_lexer": "ipython3",
   "version": "3.12.1"
  }
 },
 "nbformat": 4,
 "nbformat_minor": 2
}
