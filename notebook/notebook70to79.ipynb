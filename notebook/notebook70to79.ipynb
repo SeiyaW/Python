{
 "cells": [
  {
   "cell_type": "code",
   "execution_count": 1,
   "metadata": {},
   "outputs": [
    {
     "data": {
      "text/plain": [
       "[1, 2, 3, 4, 5]"
      ]
     },
     "execution_count": 1,
     "metadata": {},
     "output_type": "execute_result"
    }
   ],
   "source": [
    "# リスト内包表記でリストを作る\n",
    "num_list = []\n",
    "for num in range(1,6):\n",
    "    num_list.append(num)\n",
    "\n",
    "num_list"
   ]
  },
  {
   "cell_type": "code",
   "execution_count": 2,
   "metadata": {},
   "outputs": [
    {
     "data": {
      "text/plain": [
       "[1, 2, 3, 4, 5]"
      ]
     },
     "execution_count": 2,
     "metadata": {},
     "output_type": "execute_result"
    }
   ],
   "source": [
    "# リスト内包表記を使う\n",
    "num_list = [i for i in range(1,6)]\n",
    "num_list"
   ]
  },
  {
   "cell_type": "code",
   "execution_count": 3,
   "metadata": {},
   "outputs": [
    {
     "data": {
      "text/plain": [
       "[1, 4, 9, 16, 25]"
      ]
     },
     "execution_count": 3,
     "metadata": {},
     "output_type": "execute_result"
    }
   ],
   "source": [
    "# iの値を2乗する\n",
    "num_list = [i**2 for i in range(1,6)]\n",
    "num_list"
   ]
  },
  {
   "cell_type": "code",
   "execution_count": 4,
   "metadata": {},
   "outputs": [
    {
     "data": {
      "text/plain": [
       "[1, 1, 1, 1, 1]"
      ]
     },
     "execution_count": 4,
     "metadata": {},
     "output_type": "execute_result"
    }
   ],
   "source": [
    "# リスト内包表記の2つの変数が異なる場合\n",
    "n = 1\n",
    "num_list = [n for num in range(1,6)]\n",
    "num_list"
   ]
  },
  {
   "cell_type": "code",
   "execution_count": 5,
   "metadata": {},
   "outputs": [
    {
     "data": {
      "text/plain": [
       "[0, 1, 2, 3, 4]"
      ]
     },
     "execution_count": 5,
     "metadata": {},
     "output_type": "execute_result"
    }
   ],
   "source": [
    "# リスト内容表記の先頭の式で値を加工する\n",
    "num_list = [num-1 for num in range(1,6)]\n",
    "num_list"
   ]
  },
  {
   "cell_type": "code",
   "execution_count": 6,
   "metadata": {},
   "outputs": [
    {
     "data": {
      "text/plain": [
       "[1, 3, 5]"
      ]
     },
     "execution_count": 6,
     "metadata": {},
     "output_type": "execute_result"
    }
   ],
   "source": [
    "# 1~5の範囲の奇数だけをリストに追加する\n",
    "num_list = [num for num in range(1,6) if num % 2 == 1]\n",
    "num_list"
   ]
  },
  {
   "cell_type": "code",
   "execution_count": null,
   "metadata": {},
   "outputs": [],
   "source": [
    "# リスト内包表記でif...elseで条件分岐する\n",
    "ifelse = ['positive' if i % 2 == 1 else 'negative' for i in range(10)]\n",
    "ifelse"
   ]
  },
  {
   "cell_type": "code",
   "execution_count": 8,
   "metadata": {},
   "outputs": [
    {
     "data": {
      "text/plain": [
       "[[0, 0, 0, 0, 0, 0],\n",
       " [0, 0, 0, 0, 0, 0],\n",
       " [0, 0, 0, 0, 0, 0],\n",
       " [0, 0, 0, 0, 0, 0],\n",
       " [0, 0, 0, 0, 0, 0]]"
      ]
     },
     "execution_count": 8,
     "metadata": {},
     "output_type": "execute_result"
    }
   ],
   "source": [
    "# リスト内包表記で多重リストを作る\n",
    "# 初期値を0にして(5,6)のサイズの多重リストを作成\n",
    "multiple = [[0] * 6 for i in range(5)]\n",
    "multiple"
   ]
  },
  {
   "cell_type": "code",
   "execution_count": 9,
   "metadata": {},
   "outputs": [
    {
     "data": {
      "text/plain": [
       "[[100, 100, 100, 100],\n",
       " [100, 100, 100, 100],\n",
       " [100, 100, 100, 100],\n",
       " [100, 100, 100, 100]]"
      ]
     },
     "execution_count": 9,
     "metadata": {},
     "output_type": "execute_result"
    }
   ],
   "source": [
    "# 初期値を100にして(4,4)のサイズの多重リストを作成\n",
    "multiple = [[100] * 4 for i in range(4)]\n",
    "multiple"
   ]
  },
  {
   "cell_type": "code",
   "execution_count": 10,
   "metadata": {},
   "outputs": [
    {
     "data": {
      "text/plain": [
       "[['Python', 'Python', 'Python', 'Python'],\n",
       " ['Python', 'Python', 'Python', 'Python'],\n",
       " ['Python', 'Python', 'Python', 'Python']]"
      ]
     },
     "execution_count": 10,
     "metadata": {},
     "output_type": "execute_result"
    }
   ],
   "source": [
    "# 初期値を文字列にして(3,4)のサイズの多重リストを作成\n",
    "multiple = [['Python'] * 4 for i in range(3)]\n",
    "multiple"
   ]
  },
  {
   "cell_type": "code",
   "execution_count": 11,
   "metadata": {},
   "outputs": [
    {
     "data": {
      "text/plain": [
       "[[0, 100, 0, 0, 0],\n",
       " [0, 0, 0, 0, 0],\n",
       " [0, 0, 0, 0, 0],\n",
       " [0, 0, 0, 0, 0],\n",
       " [0, 0, 0, 0, 0],\n",
       " [0, 0, 0, 0, 0]]"
      ]
     },
     "execution_count": 11,
     "metadata": {},
     "output_type": "execute_result"
    }
   ],
   "source": [
    "# 多重リストmultiple[0][1]の要素を書き換える\n",
    "multiple = [[0] * 5 for i in range(6)]\n",
    "multiple[0][1] = 100\n",
    "multiple"
   ]
  },
  {
   "cell_type": "code",
   "execution_count": 12,
   "metadata": {},
   "outputs": [
    {
     "data": {
      "text/plain": [
       "[[[0, 0], [0, 0], [0, 0]],\n",
       " [[0, 0], [0, 0], [0, 0]],\n",
       " [[0, 0], [0, 0], [0, 0]],\n",
       " [[0, 0], [0, 0], [0, 0]]]"
      ]
     },
     "execution_count": 12,
     "metadata": {},
     "output_type": "execute_result"
    }
   ],
   "source": [
    "# リスト内包表記を入れ子にして多次元のリストを作る\n",
    "# (2,3,4)の形状の3次元配列を作成する\n",
    "list_3d = [[[0] * 2 for i in range(3)] for j in range(4)]\n",
    "list_3d"
   ]
  },
  {
   "cell_type": "code",
   "execution_count": 14,
   "metadata": {},
   "outputs": [
    {
     "data": {
      "text/plain": [
       "[[[0, 5000], [0, 0], [0, 0]],\n",
       " [[0, 0], [0, 0], [0, 0]],\n",
       " [[0, 0], [0, 0], [0, 0]],\n",
       " [[0, 0], [0, 0], [0, 0]]]"
      ]
     },
     "execution_count": 14,
     "metadata": {},
     "output_type": "execute_result"
    }
   ],
   "source": [
    "# 3次元配列list_3d[0][0][1]の要素を書き換える\n",
    "list_3d = [[[0] * 2 for i in range(3)] for j in range(4)]\n",
    "list_3d[0][0][1] = 5000\n",
    "list_3d"
   ]
  },
  {
   "cell_type": "code",
   "execution_count": 1,
   "metadata": {},
   "outputs": [
    {
     "data": {
      "text/plain": [
       "[['a', 'x'], ['b', 'y'], ['c', 'z']]"
      ]
     },
     "execution_count": 1,
     "metadata": {},
     "output_type": "execute_result"
    }
   ],
   "source": [
    "# リスト内包表記で2つのりストの要素をペアでまとめる\n",
    "# 要素数3の2つのリスト要素を、(3,2)の形状の多重リストにする\n",
    "list1 = ['a', 'b', 'c']\n",
    "list2 = ['x', 'y', 'z']\n",
    "\n",
    "list_zip = [[str1,str2] for str1, str2 in zip(list1, list2)]\n",
    "list_zip"
   ]
  },
  {
   "cell_type": "code",
   "execution_count": 2,
   "metadata": {},
   "outputs": [
    {
     "data": {
      "text/plain": [
       "[[0, 1000], [1, 2000], [2, 3000]]"
      ]
     },
     "execution_count": 2,
     "metadata": {},
     "output_type": "execute_result"
    }
   ],
   "source": [
    "# 要素数3の2つのリスト要素を、(3,2)の形状の多重リストにする\n",
    "list1 = [0, 1, 2]\n",
    "list2 = [1000, 2000, 3000]\n",
    "\n",
    "list_zip = [[n1, n2] for n1, n2 in zip(list1, list2)]\n",
    "list_zip"
   ]
  },
  {
   "cell_type": "code",
   "execution_count": 3,
   "metadata": {},
   "outputs": [
    {
     "data": {
      "text/plain": [
       "[[0, 'a'], [1, 'b'], [2, 'c']]"
      ]
     },
     "execution_count": 3,
     "metadata": {},
     "output_type": "execute_result"
    }
   ],
   "source": [
    "# リスト内包表記でインデックス付きのリストを作る\n",
    "list = ['a', 'b', 'c']\n",
    "list_enu = [[i, j] for i, j in enumerate(list)]\n",
    "list_enu"
   ]
  },
  {
   "cell_type": "code",
   "execution_count": 4,
   "metadata": {},
   "outputs": [
    {
     "data": {
      "text/plain": [
       "(0, 1, 2)"
      ]
     },
     "execution_count": 4,
     "metadata": {},
     "output_type": "execute_result"
    }
   ],
   "source": [
    "# 「変更不可」のデータを一括管理する\n",
    "# タプルの作成\n",
    "t = 0, 1, 2\n",
    "t"
   ]
  },
  {
   "cell_type": "code",
   "execution_count": 5,
   "metadata": {},
   "outputs": [
    {
     "name": "stdout",
     "output_type": "stream",
     "text": [
      "<class 'tuple'>\n",
      "<class 'tuple'>\n"
     ]
    }
   ],
   "source": [
    "# タプルを2通りの方法で作成\n",
    "t1 = 0, 1, 2\n",
    "t2 = (0, 1, 2)\n",
    "print(type(t1))\n",
    "print(type(t2))"
   ]
  },
  {
   "cell_type": "code",
   "execution_count": 7,
   "metadata": {},
   "outputs": [
    {
     "name": "stdout",
     "output_type": "stream",
     "text": [
      "<class 'tuple'>\n"
     ]
    }
   ],
   "source": [
    "# 要素が1つだけの場合はカンマをつけないとあぷるにならない\n",
    "# t = (1)\n",
    "# 要素が1つだけの場合はカンマをつける\n",
    "t = 1,\n",
    "print(type(t))"
   ]
  },
  {
   "cell_type": "code",
   "execution_count": 8,
   "metadata": {},
   "outputs": [
    {
     "name": "stdout",
     "output_type": "stream",
     "text": [
      "ジェダイは呪文を唱えた\n",
      "暗黒卿は呪文を唱えた\n",
      "チューバッカは呪文を唱えた\n",
      "ヨーダは呪文を唱えた\n"
     ]
    }
   ],
   "source": [
    "# タプル要素を処理する\n",
    "names = ('ジェダイ', '暗黒卿', 'チューバッカ', 'ヨーダ')\n",
    "for attack in names:\n",
    "    print(attack + 'は呪文を唱えた')"
   ]
  },
  {
   "cell_type": "code",
   "execution_count": 9,
   "metadata": {},
   "outputs": [
    {
     "data": {
      "text/plain": [
       "'ジェダイ'"
      ]
     },
     "execution_count": 9,
     "metadata": {},
     "output_type": "execute_result"
    }
   ],
   "source": [
    "# タプル要素を変数に代入する\n",
    "names = ('ジェダイ', '暗黒卿', 'チューバッカ', 'ヨーダ')\n",
    "# 先頭の要素から順にa,b,c,dに代入する\n",
    "a,b,c,d = names\n",
    "a"
   ]
  },
  {
   "cell_type": "code",
   "execution_count": 10,
   "metadata": {},
   "outputs": [
    {
     "data": {
      "text/plain": [
       "(0, 1, 2, 3, 3)"
      ]
     },
     "execution_count": 10,
     "metadata": {},
     "output_type": "execute_result"
    }
   ],
   "source": [
    "# タプル要素を追加する\n",
    "t = (0, 1, 2, 3) + (3, )\n",
    "t"
   ]
  },
  {
   "cell_type": "code",
   "execution_count": 11,
   "metadata": {},
   "outputs": [
    {
     "data": {
      "text/plain": [
       "2"
      ]
     },
     "execution_count": 11,
     "metadata": {},
     "output_type": "execute_result"
    }
   ],
   "source": [
    "# タプルの要素にアクセスする\n",
    "t = (0, 1, 2, 3)\n",
    "t[2]"
   ]
  },
  {
   "cell_type": "code",
   "execution_count": 12,
   "metadata": {},
   "outputs": [
    {
     "data": {
      "text/plain": [
       "{'朝食': 'シリアル', '昼食': '牛丼', '夜食': 'トマトのパスタ'}"
      ]
     },
     "execution_count": 12,
     "metadata": {},
     "output_type": "execute_result"
    }
   ],
   "source": [
    "# キーと値のペアでデータを管理する\n",
    "# 辞書を作成する\n",
    "menu = {'朝食': 'シリアル',\n",
    "        '昼食': '牛丼',\n",
    "        '夜食': 'トマトのパスタ'}\n",
    "\n",
    "menu"
   ]
  },
  {
   "cell_type": "code",
   "execution_count": 13,
   "metadata": {},
   "outputs": [
    {
     "data": {
      "text/plain": [
       "'シリアル'"
      ]
     },
     "execution_count": 13,
     "metadata": {},
     "output_type": "execute_result"
    }
   ],
   "source": [
    "# 辞書に登録した要素を参照する\n",
    "menu = {'朝食': 'シリアル',\n",
    "        '昼食': '牛丼',\n",
    "        '夜食': 'トマトのパスタ'}\n",
    "menu['朝食']"
   ]
  },
  {
   "cell_type": "code",
   "execution_count": 14,
   "metadata": {},
   "outputs": [
    {
     "data": {
      "text/plain": [
       "{'朝食': 'シリアル', '昼食': '牛丼', '夜食': 'トマトのパスタ', 'おやつ': 'マカロン'}"
      ]
     },
     "execution_count": 14,
     "metadata": {},
     "output_type": "execute_result"
    }
   ],
   "source": [
    "# 要素を追加する\n",
    "menu['おやつ'] = 'マカロン'\n",
    "menu"
   ]
  },
  {
   "cell_type": "code",
   "execution_count": 15,
   "metadata": {},
   "outputs": [
    {
     "data": {
      "text/plain": [
       "{'朝食': 'シリアル', '昼食': '牛丼', '夜食': 'トマトのパスタ', 'おやつ': 'イチゴ大福'}"
      ]
     },
     "execution_count": 15,
     "metadata": {},
     "output_type": "execute_result"
    }
   ],
   "source": [
    "# 登録済みの値を変更する\n",
    "menu['おやつ'] = 'イチゴ大福'\n",
    "menu"
   ]
  },
  {
   "cell_type": "code",
   "execution_count": 16,
   "metadata": {},
   "outputs": [
    {
     "data": {
      "text/plain": [
       "{'朝食': 'シリアル', '昼食': '牛丼', '夜食': 'トマトのパスタ'}"
      ]
     },
     "execution_count": 16,
     "metadata": {},
     "output_type": "execute_result"
    }
   ],
   "source": [
    "# 指定した要素を削除する\n",
    "del menu['おやつ']\n",
    "menu"
   ]
  },
  {
   "cell_type": "code",
   "execution_count": 17,
   "metadata": {},
   "outputs": [
    {
     "name": "stdout",
     "output_type": "stream",
     "text": [
      "R2-D2\n",
      "C-3PO\n",
      "バトル・ドロイド\n"
     ]
    }
   ],
   "source": [
    "# 辞書軒をまとめて取得する\n",
    "# キーをいてれーとして列挙する\n",
    "droid = {'R2-D2': '宇宙用のアストロメク・ドロイド',\n",
    "         'C-3PO': '知的生物とコミュニケーションをとるためのドロイド',\n",
    "         'バトル・ドロイド': '戦闘用に設計されたドロイド'}\n",
    "for key in droid:\n",
    "    print(key)"
   ]
  },
  {
   "cell_type": "code",
   "execution_count": 18,
   "metadata": {},
   "outputs": [
    {
     "name": "stdout",
     "output_type": "stream",
     "text": [
      "dict_keys(['R2-D2', 'C-3PO', 'バトル・ドロイド'])\n"
     ]
    }
   ],
   "source": [
    "# 辞書のすべてのキーを取得する\n",
    "droid = {'R2-D2': '宇宙用のアストロメク・ドロイド',\n",
    "         'C-3PO': '知的生物とコミュニケーションをとるためのドロイド',\n",
    "         'バトル・ドロイド': '戦闘用に設計されたドロイド'}\n",
    "\n",
    "lst = droid.keys()\n",
    "print(lst)"
   ]
  },
  {
   "cell_type": "code",
   "execution_count": 19,
   "metadata": {},
   "outputs": [
    {
     "name": "stdout",
     "output_type": "stream",
     "text": [
      "R2-D2\n",
      "C-3PO\n",
      "バトル・ドロイド\n"
     ]
    }
   ],
   "source": [
    "# keys()メソッドが返すキーのリストから1つずつ取り出す\n",
    "for key in droid.keys():\n",
    "    print(key)"
   ]
  },
  {
   "cell_type": "code",
   "execution_count": null,
   "metadata": {},
   "outputs": [],
   "source": []
  }
 ],
 "metadata": {
  "kernelspec": {
   "display_name": "Python 3",
   "language": "python",
   "name": "python3"
  },
  "language_info": {
   "codemirror_mode": {
    "name": "ipython",
    "version": 3
   },
   "file_extension": ".py",
   "mimetype": "text/x-python",
   "name": "python",
   "nbconvert_exporter": "python",
   "pygments_lexer": "ipython3",
   "version": "3.12.1"
  }
 },
 "nbformat": 4,
 "nbformat_minor": 2
}
