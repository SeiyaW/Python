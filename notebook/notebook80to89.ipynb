{
 "cells": [
  {
   "cell_type": "code",
   "execution_count": 1,
   "metadata": {},
   "outputs": [
    {
     "name": "stdout",
     "output_type": "stream",
     "text": [
      "dict_values(['宇宙用のアストロメク・ドロイド', '知的生物とコミュニケーションをとるためのドロイド', '戦闘用に設計されたドロイド'])\n"
     ]
    }
   ],
   "source": [
    "# 辞書の値だけを取得する\n",
    "# 辞書のすべての値をリストとして取得する\n",
    "droid = {'R2-D2': '宇宙用のアストロメク・ドロイド',\n",
    "         'C-3PO': '知的生物とコミュニケーションをとるためのドロイド',\n",
    "         'バトル・ドロイド': '戦闘用に設計されたドロイド'\n",
    "        }\n",
    "val = droid.values()\n",
    "print(val)"
   ]
  },
  {
   "cell_type": "code",
   "execution_count": 2,
   "metadata": {},
   "outputs": [
    {
     "name": "stdout",
     "output_type": "stream",
     "text": [
      "宇宙用のアストロメク・ドロイド\n",
      "知的生物とコミュニケーションをとるためのドロイド\n",
      "戦闘用に設計されたドロイド\n"
     ]
    }
   ],
   "source": [
    "# 辞書の値をイテレートする\n",
    "for value in droid.values():\n",
    "    print(value)"
   ]
  },
  {
   "cell_type": "code",
   "execution_count": 3,
   "metadata": {},
   "outputs": [
    {
     "name": "stdout",
     "output_type": "stream",
     "text": [
      "dict_items([('R2-D2', '宇宙用のアストロメク・ドロイド'), ('C-3PO', '知的生物とコミュニケーションをとるためのドロイド'), ('バトル・ドロイド', '戦闘用に設計されたドロイド')])\n"
     ]
    }
   ],
   "source": [
    "# 辞書の要素をまるごと取得する\n",
    "droid = {'R2-D2': '宇宙用のアストロメク・ドロイド',\n",
    "         'C-3PO': '知的生物とコミュニケーションをとるためのドロイド',\n",
    "         'バトル・ドロイド': '戦闘用に設計されたドロイド'\n",
    "        }\n",
    "item = droid.items()\n",
    "print(item)"
   ]
  },
  {
   "cell_type": "code",
   "execution_count": 4,
   "metadata": {},
   "outputs": [
    {
     "name": "stdout",
     "output_type": "stream",
     "text": [
      "「R2-D2」は宇宙用のアストロメク・ドロイドなのです。\n",
      "「C-3PO」は知的生物とコミュニケーションをとるためのドロイドなのです。\n",
      "「バトル・ドロイド」は戦闘用に設計されたドロイドなのです。\n"
     ]
    }
   ],
   "source": [
    "# 辞書のキーと値をforでイテレートする\n",
    "droid = {'R2-D2': '宇宙用のアストロメク・ドロイド',\n",
    "         'C-3PO': '知的生物とコミュニケーションをとるためのドロイド',\n",
    "         'バトル・ドロイド': '戦闘用に設計されたドロイド'\n",
    "        }\n",
    "for key, value in droid.items():\n",
    "    print(\n",
    "        '「{}」は{}なのです。'.format(key,value)\n",
    "    )"
   ]
  },
  {
   "cell_type": "code",
   "execution_count": 5,
   "metadata": {},
   "outputs": [
    {
     "data": {
      "text/plain": [
       "{'グンガン': '惑星ナブーに住む両生類型知的種族',\n",
       " 'ジャワ': '砂漠の惑星タトゥイーンに住むヒューマノイド型知的種族',\n",
       " 'ナーコイス': '惑星ナークに住む背の低い知的種族'}"
      ]
     },
     "execution_count": 5,
     "metadata": {},
     "output_type": "execute_result"
    }
   ],
   "source": [
    "# 2要素のシーケンスを辞書に変換する\n",
    "# リストのリスト\n",
    "seq = [['グンガン', '惑星ナブーに住む両生類型知的種族'],\n",
    "       ['ジャワ', '砂漠の惑星タトゥイーンに住むヒューマノイド型知的種族'],\n",
    "       ['ナーコイス', '惑星ナークに住む背の低い知的種族']]\n",
    "dict(seq)"
   ]
  },
  {
   "cell_type": "code",
   "execution_count": 6,
   "metadata": {},
   "outputs": [
    {
     "data": {
      "text/plain": [
       "{'宇宙船': ['ミレニアム・ファルコン'],\n",
       " '武器': ['イオン砲', 'ブラスター砲', 'ボウキャスター'],\n",
       " 'ドロイド': ['ドロイド・タンク', 'B1バトル・ドロイド', 'マグナガード']}"
      ]
     },
     "execution_count": 6,
     "metadata": {},
     "output_type": "execute_result"
    }
   ],
   "source": [
    "# 辞書に辞書を追加する\n",
    "items = {'宇宙船': ['スターファイター', 'GR-75中型輸送船'],\n",
    "         '武器': ['イオン砲', 'ブラスター砲', 'ボウキャスター']}\n",
    "# 追加用の辞書\n",
    "add = {'宇宙船': ['ミレニアム・ファルコン'],\n",
    "       'ドロイド': ['ドロイド・タンク', 'B1バトル・ドロイド', 'マグナガード']}\n",
    "# 辞書を追加する\n",
    "items.update(add)\n",
    "items"
   ]
  },
  {
   "cell_type": "code",
   "execution_count": 7,
   "metadata": {},
   "outputs": [
    {
     "data": {
      "text/plain": [
       "{'宇宙船': ['ミレニアム・ファルコン'], 'ドロイド': ['ドロイド・タンク', 'B1バトル・ドロイド', 'マグナガード']}"
      ]
     },
     "execution_count": 7,
     "metadata": {},
     "output_type": "execute_result"
    }
   ],
   "source": [
    "# 辞書の要素をまるごとコピーする\n",
    "add = {'宇宙船': ['ミレニアム・ファルコン'],\n",
    "       'ドロイド': ['ドロイド・タンク', 'B1バトル・ドロイド', 'マグナガード']}\n",
    "new = add.copy()\n",
    "new"
   ]
  },
  {
   "cell_type": "code",
   "execution_count": 9,
   "metadata": {},
   "outputs": [
    {
     "data": {
      "text/plain": [
       "{}"
      ]
     },
     "execution_count": 9,
     "metadata": {},
     "output_type": "execute_result"
    }
   ],
   "source": [
    "# 辞書の要素を削除する\n",
    "add = {'宇宙船': ['ミレニアム・ファルコン'],\n",
    "       'ドロイド': ['ドロイド・タンク', 'B1バトル・ドロイド', 'マグナガード']}\n",
    "# del add['ドロイド']\n",
    "# 辞書のすべての要素を一括して削除する\n",
    "add.clear()\n",
    "add"
   ]
  },
  {
   "cell_type": "code",
   "execution_count": 10,
   "metadata": {},
   "outputs": [
    {
     "name": "stdout",
     "output_type": "stream",
     "text": [
      "タコケン・レイダーがあらわれた！\n",
      " >>>勇者はライトセーバーを振りかざした！\n",
      " >>>タコケン・レイダーが反撃した！\n",
      "ストームトルッパがあらわれた！\n",
      " >>>勇者はターボレーザーを振りかざした！\n",
      " >>>ストームトルッパが防御した！\n",
      "ジャンゴンがあらわれた！\n",
      " >>>勇者はブラスターライフルを振りかざした！\n",
      " >>>ジャンゴンが逃走した！\n"
     ]
    }
   ],
   "source": [
    "# 3つのリストをまとめてイテレートする\n",
    "monster = ['タコケン・レイダー', 'ストームトルッパ', 'ジャンゴン']\n",
    "attack =  ['ライトセーバー', 'ターボレーザー', 'ブラスターライフル']\n",
    "fight_back = ['反撃', '防御', '逃走']\n",
    "# リストの要素の数だけ繰り返す\n",
    "for mst, atc, fb in zip(monster, attack, fight_back):\n",
    "    print(\n",
    "        mst + 'があらわれた！\\n',\n",
    "        '>>>勇者は{}を振りかざした！'.format(atc) + '\\n',\n",
    "        '>>>{}が{}した！'.format(mst,fb)\n",
    "    )"
   ]
  },
  {
   "cell_type": "code",
   "execution_count": 11,
   "metadata": {},
   "outputs": [
    {
     "name": "stdout",
     "output_type": "stream",
     "text": [
      "[('ライトセーバー', 'フォースと共鳴してプラズマのブレードを放出する'), ('ブラスターライフル', '集束した光線エネルギーを発射する'), ('レーザー砲', '強力なレーザー兵器')]\n"
     ]
    }
   ],
   "source": [
    "# 2つのリストの各要素をタプルにまとめたリストを作る\n",
    "weapon = ['ライトセーバー', 'ブラスターライフル', 'レーザー砲']\n",
    "ability = ['フォースと共鳴してプラズマのブレードを放出する', \n",
    "           '集束した光線エネルギーを発射する', \n",
    "           '強力なレーザー兵器']\n",
    "# 各要素をタプルにして、これをリストの要素にする\n",
    "ls = list(zip(weapon, ability))\n",
    "print(ls)"
   ]
  },
  {
   "cell_type": "code",
   "execution_count": 12,
   "metadata": {},
   "outputs": [
    {
     "name": "stdout",
     "output_type": "stream",
     "text": [
      "{'ライトセーバー': 'フォースと共鳴してプラズマのブレードを放出する', 'ブラスターライフル': '集束した光線エネルギーを発射する', 'レーザー砲': '強力なレーザー兵器'}\n"
     ]
    }
   ],
   "source": [
    "# 2つのリストから辞書を作る\n",
    "weapon = ['ライトセーバー', 'ブラスターライフル', 'レーザー砲']\n",
    "ability = ['フォースと共鳴してプラズマのブレードを放出する', \n",
    "           '集束した光線エネルギーを発射する', \n",
    "           '強力なレーザー兵器']\n",
    "# リスト要素をキーと値のペアにして辞書を作成する\n",
    "dc = dict(zip(weapon, ability))\n",
    "print(dc)"
   ]
  },
  {
   "cell_type": "code",
   "execution_count": null,
   "metadata": {},
   "outputs": [],
   "source": []
  }
 ],
 "metadata": {
  "kernelspec": {
   "display_name": "Python 3",
   "language": "python",
   "name": "python3"
  },
  "language_info": {
   "codemirror_mode": {
    "name": "ipython",
    "version": 3
   },
   "file_extension": ".py",
   "mimetype": "text/x-python",
   "name": "python",
   "nbconvert_exporter": "python",
   "pygments_lexer": "ipython3",
   "version": "3.12.1"
  }
 },
 "nbformat": 4,
 "nbformat_minor": 2
}
